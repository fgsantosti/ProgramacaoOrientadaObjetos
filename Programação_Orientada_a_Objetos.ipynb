{
  "cells": [
    {
      "cell_type": "markdown",
      "metadata": {
        "id": "view-in-github",
        "colab_type": "text"
      },
      "source": [
        "<a href=\"https://colab.research.google.com/github/fgsantosti/ProgramacaoOrientadaObjetos/blob/main/Programa%C3%A7%C3%A3o_Orientada_a_Objetos.ipynb\" target=\"_parent\"><img src=\"https://colab.research.google.com/assets/colab-badge.svg\" alt=\"Open In Colab\"/></a>"
      ]
    },
    {
      "cell_type": "markdown",
      "metadata": {
        "id": "M_H_z6UEsvYq"
      },
      "source": [
        "# Programação Estrutural"
      ]
    },
    {
      "cell_type": "code",
      "execution_count": null,
      "metadata": {
        "id": "Emk978-Lqa8s"
      },
      "outputs": [],
      "source": [
        "def cria_conta(numero, titular, saldo, limite):\n",
        "    conta = {\"numero\": numero, \"titular\": titular, \"saldo\": saldo, \"limite\": limite}\n",
        "    return conta\n",
        "\n",
        "def deposita(conta, valor):\n",
        "    conta[\"saldo\"] += valor\n",
        "\n",
        "def saca(conta, valor):\n",
        "    conta[\"saldo\"] -= valor\n",
        "\n",
        "def extrato(conta):\n",
        "    print(\"Saldo {}\".format(conta[\"saldo\"]))"
      ]
    },
    {
      "cell_type": "code",
      "execution_count": null,
      "metadata": {
        "colab": {
          "base_uri": "https://localhost:8080/"
        },
        "id": "CKXAKpi-rkn6",
        "outputId": "17f1c8a5-8b5b-49b8-e509-d79cd129507b"
      },
      "outputs": [
        {
          "name": "stdout",
          "output_type": "stream",
          "text": [
            "1000\n",
            "Saldo 1500\n"
          ]
        }
      ],
      "source": [
        "conta = cria_conta(1111, 'felipe', 1000, 10000)\n",
        "\n",
        "print(conta['saldo'])\n",
        "\n",
        "deposita(conta, 500)\n",
        "\n",
        "extrato(conta)"
      ]
    },
    {
      "cell_type": "code",
      "execution_count": null,
      "metadata": {
        "colab": {
          "base_uri": "https://localhost:8080/"
        },
        "id": "y7S3TUgMu61P",
        "outputId": "7dcc350e-1c13-4a49-8e4f-ec900baf4c37"
      },
      "outputs": [
        {
          "name": "stdout",
          "output_type": "stream",
          "text": [
            "0\n",
            "Saldo 0\n"
          ]
        }
      ],
      "source": [
        "#Se tivermos outros tipos de conta deveriamos repetir parte dessas funções feitas acima.\n",
        "\n",
        "#Outro problema é que nada evita de acessar as variaveias da conta de forma direta como:\n",
        "conta['saldo'] = 0\n",
        "\n",
        "print(conta['saldo'])\n",
        "\n",
        "extrato(conta)"
      ]
    },
    {
      "cell_type": "markdown",
      "metadata": {
        "id": "3AZc5BeQ1a4S"
      },
      "source": [
        "\n",
        "#Classe e Objeto\n"
      ]
    },
    {
      "cell_type": "code",
      "execution_count": null,
      "metadata": {
        "colab": {
          "base_uri": "https://localhost:8080/"
        },
        "id": "kGZlmtSjv_T7",
        "outputId": "0e735067-9637-4de0-9120-de03314ffd6f"
      },
      "outputs": [
        {
          "name": "stdout",
          "output_type": "stream",
          "text": [
            "<__main__.Conta object at 0x7f0ac9b53810>\n"
          ]
        }
      ],
      "source": [
        "class Conta:\n",
        "  pass\n",
        "\n",
        "Conta() #é retornado um endereço em memória"
      ]
    },
    {
      "cell_type": "code",
      "execution_count": null,
      "metadata": {
        "colab": {
          "base_uri": "https://localhost:8080/"
        },
        "id": "ljtXI2f_wekk",
        "outputId": "59b3d2f8-4b00-4332-a5f3-2fa5a014fad3"
      },
      "outputs": [
        {
          "name": "stdout",
          "output_type": "stream",
          "text": [
            "<__main__.Conta object at 0x7f0ac9b27210>\n"
          ]
        }
      ],
      "source": [
        "conta = Conta() #criamos uma referencia para esse endereço\n",
        "print(conta)"
      ]
    },
    {
      "cell_type": "code",
      "execution_count": null,
      "metadata": {
        "colab": {
          "base_uri": "https://localhost:8080/"
        },
        "id": "d63VDquk0R0K",
        "outputId": "d067d08b-3791-404e-fe90-c74ef28cfc82"
      },
      "outputs": [
        {
          "name": "stdout",
          "output_type": "stream",
          "text": [
            "Construindo uma conta\n"
          ]
        },
        {
          "data": {
            "text/plain": [
              "<__main__.Conta at 0x7f0ac9b14dd0>"
            ]
          },
          "execution_count": 13,
          "metadata": {},
          "output_type": "execute_result"
        }
      ],
      "source": [
        "class Conta:\n",
        "  def __init__(self):\n",
        "    print('Construindo uma conta')\n",
        "\n",
        "Conta() #é retornado um endereço em memória"
      ]
    },
    {
      "cell_type": "code",
      "execution_count": null,
      "metadata": {
        "colab": {
          "base_uri": "https://localhost:8080/"
        },
        "id": "_FQLvmX90gxH",
        "outputId": "39194f91-6ea3-415b-b32f-1a78c17ff0fa"
      },
      "outputs": [
        {
          "name": "stdout",
          "output_type": "stream",
          "text": [
            "Construindo uma conta <__main__.Conta object at 0x7f0ac9b473d0>\n"
          ]
        },
        {
          "data": {
            "text/plain": [
              "<__main__.Conta at 0x7f0ac9b473d0>"
            ]
          },
          "execution_count": 15,
          "metadata": {},
          "output_type": "execute_result"
        }
      ],
      "source": [
        "class Conta:\n",
        "  def __init__(self):\n",
        "    print(f'Construindo uma conta {self}') #é a referencia ao endereço em memória\n",
        "\n",
        "Conta() "
      ]
    },
    {
      "cell_type": "code",
      "execution_count": null,
      "metadata": {
        "id": "_587zBf318s1"
      },
      "outputs": [],
      "source": [
        "class Conta:\n",
        "\n",
        "    def __init__(self, numero, titular, saldo):\n",
        "        self.numero = numero\n",
        "        self.titular = titular\n",
        "        self.saldo = saldo\n",
        "        self.limite = 2000"
      ]
    },
    {
      "cell_type": "code",
      "execution_count": null,
      "metadata": {
        "colab": {
          "base_uri": "https://localhost:8080/"
        },
        "id": "QIdeVRf2uCkk",
        "outputId": "d32c0fde-bc91-4052-d21d-794952a205d1"
      },
      "outputs": [
        {
          "name": "stdout",
          "output_type": "stream",
          "text": [
            "2000\n",
            "2000\n"
          ]
        }
      ],
      "source": [
        "conta = Conta(1, \"Fulano\", 10000.0)\n",
        "print(conta.limite)\n",
        "\n",
        "conta2 = Conta(3, \"Ciro\", 10000.0)\n",
        "print(conta2.limite)"
      ]
    },
    {
      "cell_type": "code",
      "execution_count": null,
      "metadata": {
        "id": "mGA1yNfG1-lG"
      },
      "outputs": [],
      "source": [
        "#testes\n",
        "conta1 = Conta(1, \"Fulano\", 10000.0, 1000.0)\n",
        "conta2 = Conta(2, \"Beltrano\", 50000.0, 1000.0)\n",
        "conta3 = Conta(3, \"Sicrano\", 500.0, 2000.0)"
      ]
    },
    {
      "cell_type": "code",
      "execution_count": null,
      "metadata": {
        "id": "e6lvUxpJ2sSW"
      },
      "outputs": [],
      "source": [
        "class Conta:\n",
        "    '''Neste caso podemos supor que apenas as contas \n",
        "    com limites especiais precisariam passar argumento'''\n",
        "    def __init__(self, numero, titular, saldo, limite = 2000.0):\n",
        "        self.numero = numero\n",
        "        self.titular = titular\n",
        "        self.saldo = saldo\n",
        "        self.limite = limite"
      ]
    },
    {
      "cell_type": "code",
      "execution_count": null,
      "metadata": {
        "id": "O9Tob25L2uCP"
      },
      "outputs": [],
      "source": [
        "conta1 = Conta(1, \"Fulano\", 10000.0)\n",
        "conta2 = Conta(2, \"Beltrano\", 50000.0)\n",
        "conta3 = Conta(3, \"Sicrano\", 500.0, 5000.0)"
      ]
    },
    {
      "cell_type": "code",
      "execution_count": null,
      "metadata": {
        "id": "vc7Z-8dl33M1"
      },
      "outputs": [],
      "source": [
        "#forma de acesso as variáveis \n",
        "print(conta1.saldo) #traz para mim\n",
        "print(conta2.saldo) #traz para mim\n",
        "print(conta3.saldo) #traz para mim"
      ]
    },
    {
      "cell_type": "code",
      "execution_count": null,
      "metadata": {
        "id": "eHmXw4YO4psA"
      },
      "outputs": [],
      "source": [
        "'''\n",
        "def cria_conta(numero, titular, saldo, limite):\n",
        "    conta = {\"numero\": numero, \"titular\": titular, \"saldo\": saldo, \"limite\": limite}\n",
        "    return conta\n",
        "def deposita(conta, valor):\n",
        "    conta[\"saldo\"] += valor\n",
        "def saca(conta, valor):\n",
        "    conta[\"saldo\"] -= valor\n",
        "def extrato(conta):\n",
        "    print(\"Saldo {}\".format(conta[\"saldo\"]))\n",
        "'''\n",
        "\n",
        "class Conta:\n",
        "    def __init__(self, numero, titular, saldo, limite):\n",
        "        self.numero = numero\n",
        "        self.titular = titular\n",
        "        self.saldo = saldo\n",
        "        self.limite = limite\n",
        "    \n",
        "    def deposita(self, valor):\n",
        "      self.saldo += valor\n",
        "\n",
        "    def saca(self, valor):\n",
        "      self.saldo -= valor\n",
        "\n",
        "    def extrato(self):\n",
        "      print(f\"Saldo: {self.saldo}\")  \n",
        "\n",
        "conta1 = Conta(13, \"Sicrano\", 500.0, 2000.0)\n",
        "conta2 = Conta(22, \"Fulano\", 5000.0, 2000.0)"
      ]
    },
    {
      "cell_type": "code",
      "execution_count": null,
      "metadata": {
        "colab": {
          "base_uri": "https://localhost:8080/"
        },
        "id": "clIV3ETn5tzC",
        "outputId": "a32dff19-56d2-43d1-bf78-bc9ce204d9b4"
      },
      "outputs": [
        {
          "name": "stdout",
          "output_type": "stream",
          "text": [
            "Saldo: 500.0\n",
            "Saldo: 5000.0\n"
          ]
        }
      ],
      "source": [
        "#extrado()\n",
        "conta1.extrato() #a referencia é orientada a objeto\n",
        "\n",
        "conta2.extrato() #a referencia é orientada a objeto"
      ]
    },
    {
      "cell_type": "code",
      "execution_count": null,
      "metadata": {
        "id": "7Qu_QzzdHWlW"
      },
      "outputs": [],
      "source": [
        "refconta = conta1 #referencia ao objeto conta1\n",
        "refconta = None #apago a referencia ao objeto conta1"
      ]
    },
    {
      "cell_type": "markdown",
      "metadata": {
        "id": "V8W_uA8XLfeW"
      },
      "source": [
        "Faça uma classe chamada Data, que receba como apresentado abaixo e tenha a função formatada e apresente a data dessa forma 21/11/2007\n",
        "\n",
        "d = Data(21,11,2007)\n",
        "\n",
        "d.formatada()"
      ]
    },
    {
      "cell_type": "code",
      "execution_count": null,
      "metadata": {
        "colab": {
          "base_uri": "https://localhost:8080/"
        },
        "id": "ee8QCZ3xIwJa",
        "outputId": "60322374-7125-42f7-837a-977681e296ae"
      },
      "outputs": [
        {
          "name": "stdout",
          "output_type": "stream",
          "text": [
            "19/8/2022\n"
          ]
        }
      ],
      "source": [
        "class Data:\n",
        "  def __init__(self, dia, mes, ano):\n",
        "    self.dia = dia\n",
        "    self.mes = mes\n",
        "    self.ano = ano\n",
        "  def formatada(self):\n",
        "    print(f\"{self.dia}/{self.mes}/{self.ano}\")\n",
        "\n",
        "d = Data(19,8,2022)\n",
        "d.formatada()"
      ]
    },
    {
      "cell_type": "markdown",
      "metadata": {
        "id": "5gmsZX511gKV"
      },
      "source": [
        "## Classe e Objeto: Relacionamento"
      ]
    },
    {
      "cell_type": "code",
      "execution_count": null,
      "metadata": {
        "id": "H8CH0e1i1oeE"
      },
      "outputs": [],
      "source": [
        "#employment.py\n",
        "class Employment:\n",
        "    id: int\n",
        "    charge:str\n",
        "    start_time: str \n",
        "    end_time: str\n",
        "    salario: float\n",
        "\n",
        "    def __init__(self, id:int, charge:str, start_time: str, end_time: str, salario: float):\n",
        "        self.id = id\n",
        "        self.charge = charge\n",
        "        self.start_time = start_time\n",
        "        self.end_time = end_time\n",
        "        self.salario = salario"
      ]
    },
    {
      "cell_type": "code",
      "execution_count": null,
      "metadata": {
        "id": "Icc0sam-1UZX"
      },
      "outputs": [],
      "source": [
        "#person.py\n",
        "from employment import Employment\n",
        "\n",
        "class Person:\n",
        "    id: int\n",
        "    name: str\n",
        "    email: str\n",
        "    employment: Employment\n",
        "\n",
        "    def __init__(self, id: int, name: str, email:str, employment:Employment):\n",
        "        self.id = id\n",
        "        self.name = name\n",
        "        self.email = email\n",
        "        self.employment = employment\n",
        "    \n",
        "    def inserir_emprego(self):\n",
        "        pass\n",
        "        #self.employment.append(Employment())\n",
        "    def imprimir_pessoa(self):\n",
        "        print(self.name)"
      ]
    },
    {
      "cell_type": "code",
      "execution_count": null,
      "metadata": {
        "id": "FYz-QNKO1xOB"
      },
      "outputs": [],
      "source": [
        "#main.py\n",
        "from person import Person\n",
        "from employment import Employment\n",
        "\n",
        "def main():\n",
        "    nome =  input('Nome da Pessoa: ')\n",
        "    email = input('Email:')\n",
        "    emprego1 = Employment(1, 'Professor', '18h', '22h', '5000')\n",
        "    e1 = Employment(2, 'Dev Python', '8h', '22h', '12000')\n",
        "\n",
        "    p = Person(1,nome, email,emprego1)\n",
        "    p1 = Person(2, 'Sabrina', 'sabrina@gmail.com', e1)\n",
        "\n",
        "    print(p.name, p.email, p.employment.charge)\n",
        "\n",
        "    print(p1.name, p1.employment.charge)\n",
        "\n",
        "    p2 = Person(3, 'Jefferson', 'jeff@gmail.com', e1)\n",
        "\n",
        "    print(p2.name, p2.employment.charge)\n",
        "\n",
        "    p.imprimir_pessoa()\n",
        "\n",
        "main()"
      ]
    },
    {
      "cell_type": "code",
      "execution_count": null,
      "metadata": {
        "colab": {
          "base_uri": "https://localhost:8080/"
        },
        "id": "ylyuNFM-6PMT",
        "outputId": "53c4f5dc-0f64-407a-adc9-b10dfa9a9b64"
      },
      "outputs": [
        {
          "name": "stdout",
          "output_type": "stream",
          "text": [
            "ADS\n"
          ]
        }
      ],
      "source": [
        "class Curso:\n",
        "  def __init__(self, nome, descricao):\n",
        "    self.nome = nome\n",
        "    self.descricao = descricao\n",
        "\n",
        "class Aluno:\n",
        "  curso: Curso\n",
        "  def __init__(self,nome, idade, curso: Curso):\n",
        "    self.nome = nome\n",
        "    self.idade = idade\n",
        "    self.curso = curso\n",
        "\n",
        "curso1 = Curso('ADS', 'O melhor')\n",
        "curso2 = Curso('Gestão Ambiental', 'plantinhas') \n",
        "aluno1 = Aluno('Wellinton', '19', curso1 )\n",
        "\n",
        "print(aluno1.curso.nome)\n",
        "\n"
      ]
    },
    {
      "cell_type": "markdown",
      "metadata": {
        "id": "tdINnJ-12E8i"
      },
      "source": [
        "## Classe e Objeto: Agregação"
      ]
    },
    {
      "cell_type": "code",
      "execution_count": null,
      "metadata": {
        "id": "qBHmaevV2mUW"
      },
      "outputs": [],
      "source": [
        "#client.py\n",
        "class Client:\n",
        "  def __init__(self, id, name, age, phone):\n",
        "    self.id = id\n",
        "    self.name = name\n",
        "    self.age = age\n",
        "    self.phone = phone\n"
      ]
    },
    {
      "cell_type": "code",
      "execution_count": null,
      "metadata": {
        "id": "nGhgoD1O2EJs"
      },
      "outputs": [],
      "source": [
        "#product.py\n",
        "class Product:\n",
        "    def __init__(self, name, value):\n",
        "        self.name = name\n",
        "        self.value = value\n",
        "    \n",
        "    def inserir_produt():\n",
        "        pass\n",
        "    \n",
        "    def alterar_produt():\n",
        "        pass\n",
        "\n",
        "    def listar_produts():\n",
        "        pass\n",
        "\n",
        "    def deletar_product():\n",
        "        pass\n",
        "    "
      ]
    },
    {
      "cell_type": "code",
      "execution_count": null,
      "metadata": {
        "id": "cSHlm_Sw2Uux"
      },
      "outputs": [],
      "source": [
        "#shopping_cart.py\n",
        "from client import Client \n",
        "\n",
        "class ShoppingCart:\n",
        "    client: Client \n",
        "    def __init__(self, client:Client):\n",
        "        self.products = []\n",
        "        self.client = client \n",
        "\n",
        "    \n",
        "    def insert_products(self, product):\n",
        "        self.products.append(product)\n",
        "\n",
        "    def list_products(self):\n",
        "        for product in self.products:\n",
        "            print(product.name, product.value)\n",
        "    \n",
        "    def sum_total(self):\n",
        "        total = 0\n",
        "        for product in self.products:\n",
        "            total += product.value\n",
        "        return total\n",
        "    "
      ]
    },
    {
      "cell_type": "code",
      "execution_count": null,
      "metadata": {
        "id": "dyqCCynL2h84"
      },
      "outputs": [],
      "source": [
        "#main.py\n",
        "from product import Product\n",
        "from shopping_cart import ShoppingCart\n",
        "from client import Client\n",
        "\n",
        "client1 = Client(1, 'Felipe', 30, 899999999)\n",
        "cart1 = ShoppingCart(client1)\n",
        "\n",
        "p1 = Product('MacBook', 12000)\n",
        "p2 = Product('Iphone 12', 18000)\n",
        "p3 = Product('Samsung', 6000)\n",
        "p4 = Product('MacBook Pro', 24000)\n",
        "p5 = Product('Xaomi', 3000)\n",
        "\n",
        "cart1.insert_products(p1)\n",
        "cart1.insert_products(p2)\n",
        "cart1.insert_products(p3)\n",
        "cart1.insert_products(p4)\n",
        "cart1.insert_products(p5)\n",
        "\n",
        "cart1.list_products()\n",
        "\n",
        "print(cart1.sum_total())\n"
      ]
    },
    {
      "cell_type": "markdown",
      "metadata": {
        "id": "IC2kI8fE66ns"
      },
      "source": [
        "## Classe e Objeto: Composição"
      ]
    },
    {
      "cell_type": "code",
      "execution_count": null,
      "metadata": {
        "id": "C80pV5UK2vZl"
      },
      "outputs": [],
      "source": [
        "#addrss.py\n",
        "class Address:\n",
        "    def __init__(self, country, state, city):\n",
        "        self.country = country\n",
        "        self.state = state\n",
        "        self.city = city\n",
        "    \n",
        "    def __del__(self):\n",
        "        print(f'{self.country, self.state, self.city} Foi deletado')"
      ]
    },
    {
      "cell_type": "code",
      "execution_count": null,
      "metadata": {
        "id": "m9z1KoBb7HPs"
      },
      "outputs": [],
      "source": [
        "#client.py\n",
        "from address import Address\n",
        "\n",
        "class Client:\n",
        "    def __init__(self, name, age):\n",
        "        self.name = name\n",
        "        self.age = age\n",
        "        self.addresses = []\n",
        "    \n",
        "    def insert_address(self, country, state, city):\n",
        "        self.addresses.append(Address(country, state, city))\n",
        "    \n",
        "    def list_address(self):\n",
        "        for address in self.addresses:\n",
        "            print(address.country, address.state, address.city)\n",
        "    \n",
        "    def __del__(self):\n",
        "        print(f'{self.name, self.age} Foi deletado')"
      ]
    },
    {
      "cell_type": "code",
      "execution_count": null,
      "metadata": {
        "id": "bjEkZtPU7Lo0"
      },
      "outputs": [],
      "source": [
        "#main.py\n",
        "from client import Client\n",
        "from address import Address\n",
        "\n",
        "client1 = Client('Fellps', 30)\n",
        "client1.insert_address('Brasil', 'Piauí', 'Corrente')\n",
        "client1.insert_address('Brasil', 'Piauí', 'Floriano')\n",
        "print(client1.name, client1.age)\n",
        "client1.list_address()\n",
        "del client1 \n",
        "\n",
        "print()\n",
        "client2 = Client('Fulano', 30)\n",
        "client2.insert_address('Brasil', 'Piauí', 'Corrente')\n",
        "client2.insert_address('Brasil', 'Piauí', 'Floriano')\n",
        "print(client2.name, client2.age)\n",
        "client2.list_address()\n",
        "del client2\n",
        "print()\n",
        "\n",
        "\n",
        "print('_____________________________________________________')\n"
      ]
    },
    {
      "cell_type": "markdown",
      "metadata": {
        "id": "VQseGEEg7Ss4"
      },
      "source": [
        "# Herança"
      ]
    },
    {
      "cell_type": "code",
      "execution_count": null,
      "metadata": {
        "id": "1IYaT7qUnqsB"
      },
      "outputs": [],
      "source": [
        "#classe e objeto pessoa\n",
        "class Person:\n",
        "  def __init__(self, name, age, phone):\n",
        "    self.name = name\n",
        "    self.age = age\n",
        "    self.phone = phone\n",
        "\n",
        "  def myfunc(self):\n",
        "    print(\"Hello my name is \" + self.name)\n",
        "\n",
        "  def falar(self, text):\n",
        "    print(self.name, 'diz:', text)\n",
        "\n",
        "\n",
        "p1 = Person(\"Debora\", 18, \"89 99999 5555\")\n",
        "print(p1.name)\n",
        "p2 = Person(\"Felipe\", 18, \"89 99999 5555\")\n",
        "print(p2.name)\n",
        "#p1.myfunc()"
      ]
    },
    {
      "cell_type": "code",
      "execution_count": null,
      "metadata": {
        "id": "4TJcTr0m8At1"
      },
      "outputs": [],
      "source": [
        "#person.py\n",
        "class Person:\n",
        "  def __init__(self, fname, lname):\n",
        "    self.firstname = fname\n",
        "    self.lastname = lname\n",
        "\n",
        "  def printname(self):\n",
        "    print(self.firstname, self.lastname)"
      ]
    },
    {
      "cell_type": "code",
      "execution_count": null,
      "metadata": {
        "id": "IQYbmmlL8Bn0"
      },
      "outputs": [],
      "source": [
        "#student.py\n",
        "from person import Person\n",
        "\n",
        "class Student(Person):\n",
        "    def __init__(self, fname, lname, ncarteirinha,cpf, senha='*'):\n",
        "        super().__init__(fname,lname)\n",
        "        self.ncarteirinha = ncarteirinha\n",
        "        self.senha = cpf \n",
        "        self.cpf = cpf\n",
        "\n",
        "\n",
        "    def alterar_senha(self, nova_senha):\n",
        "        self.senha = nova_senha"
      ]
    },
    {
      "cell_type": "code",
      "execution_count": null,
      "metadata": {
        "id": "VJOEB0Vd8QEQ"
      },
      "outputs": [],
      "source": [
        "#main_person_student.py\n",
        "from student import Student\n",
        "\n",
        "def main_person_student():\n",
        "    x = Student(\"Mike\", \"Lobato\", '2022IFPIADS', '009.121.222-67')\n",
        "    x.printname()"
      ]
    },
    {
      "cell_type": "code",
      "execution_count": null,
      "metadata": {
        "id": "z5wNq-GR8hfx"
      },
      "outputs": [],
      "source": [
        "#person.py\n",
        "class Person:\n",
        "  def __init__(self, fname, lname):\n",
        "    self.firstname = fname\n",
        "    self.lastname = lname\n"
      ]
    },
    {
      "cell_type": "code",
      "execution_count": null,
      "metadata": {
        "id": "HI5FZQrA8kAS"
      },
      "outputs": [],
      "source": [
        "#hospede.py\n",
        "from pessoa import Person\n",
        "class Hospede(Person):\n",
        "    def __init__(self, fname, lname, profissao):\n",
        "        super().__init__(fname, lname)\n",
        "        self.profissao = profissao\n",
        "\n",
        "    def inserir_hospede(self):\n",
        "        pass\n",
        "\n",
        "    def listar_hospedes(self):\n",
        "        pass\n",
        "\n",
        "    def alterar_hospede(self, id ):\n",
        "        pass\n",
        "    \n",
        "    def deletar_hospede(self, id):\n",
        "        pass\n"
      ]
    },
    {
      "cell_type": "markdown",
      "metadata": {
        "id": "O-VHB8_oLuaD"
      },
      "source": [
        "#Encapsulando\n",
        "\n"
      ]
    },
    {
      "cell_type": "code",
      "execution_count": null,
      "metadata": {
        "colab": {
          "base_uri": "https://localhost:8080/"
        },
        "id": "WcVxBoFdLcZs",
        "outputId": "c7efae1a-4903-4651-8150-0547c5541c48"
      },
      "outputs": [
        {
          "name": "stdout",
          "output_type": "stream",
          "text": [
            "500.0\n",
            "Sicrano\n",
            "1000\n"
          ]
        }
      ],
      "source": [
        "#encapsulando variável\n",
        "class Conta:\n",
        "    def __init__(self, numero, titular, saldo, limite):\n",
        "        self.__numero = numero\n",
        "        self.__titular = titular\n",
        "        self.__saldo = saldo\n",
        "        self.__limite = limite\n",
        "    \n",
        "    def deposita(self, valor):\n",
        "      self.__saldo += valor\n",
        "\n",
        "    def saca(self, valor):\n",
        "      self.__saldo -= valor\n",
        "\n",
        "    def extrato(self):\n",
        "      print(f\"Conta: {self.__numero}, Titula: {self.__titular} Saldo: {self.__saldo}\")  \n",
        "\n",
        "conta1 = Conta(22, \"Sicrano\", 500.0, 2000.0)\n",
        "\n",
        "#insegurança\n",
        "print(conta1._Conta__saldo) #mesmo deixando os atributos privados ainda é possivel acessar\n",
        "print(conta1._Conta__titular)\n",
        "conta1._Conta__saldo = 1000\n",
        "print(conta1._Conta__saldo)"
      ]
    },
    {
      "cell_type": "code",
      "execution_count": null,
      "metadata": {
        "colab": {
          "base_uri": "https://localhost:8080/"
        },
        "id": "rhBSEz5ksleS",
        "outputId": "b58b67ec-735d-4bcd-cba4-1c2990edc4a4"
      },
      "outputs": [
        {
          "name": "stdout",
          "output_type": "stream",
          "text": [
            "1000\n"
          ]
        }
      ],
      "source": [
        "#encapsulando método\n",
        "class Conta:\n",
        "  senha_user = 'Legal'\n",
        "  def __init__(self, numero, titular, saldo, limite):\n",
        "        self.__numero = numero\n",
        "        self.__titular = titular\n",
        "        self.__saldo = saldo\n",
        "        self.__limite = limite\n",
        "    \n",
        "  def depositar(self, valor):\n",
        "    self.__saldo += valor\n",
        "\n",
        "  def sacar(self, valor):\n",
        "    self.__saldo -= valor\n",
        "\n",
        "  def extrato(self):\n",
        "    print(f\"Conta: {self.__numero}, Titula: {self.__titular} Saldo: {self.__saldo}\")  \n",
        "\n",
        "  #método não encapsulado\n",
        "  def transferir(self, origem, valor, destino):\n",
        "    origem.sacar(valor)\n",
        "    destino.depositar(valor)\n",
        "\n",
        "  def transferir(self, valor, destino):\n",
        "    self.sacar(valor)\n",
        "    destino.depositar(valor)\n",
        "\n",
        "  #metodos get e set \n",
        "  def get_limite(self):\n",
        "        return self.__limite\n",
        "\n",
        "  def set_limite(self, limite, senha):\n",
        "      if senha == self.senha_user: \n",
        "        self.__limite = limite  \n",
        "\n",
        "\n",
        "conta1 = Conta(13, \"Sicrano\", 500.0, 2000.0)\n",
        "conta2 = Conta(22, \"Fulano\", 500.0, 25000.0)\n",
        "#testar\n",
        "conta2.set_limite(1000)\n",
        "print(conta2.get_limite())"
      ]
    },
    {
      "cell_type": "code",
      "execution_count": null,
      "metadata": {
        "colab": {
          "base_uri": "https://localhost:8080/"
        },
        "id": "6eTbJpO96Xrd",
        "outputId": "6c9df5c8-088d-4c10-c012-cbe61cd4e1a6"
      },
      "outputs": [
        {
          "name": "stdout",
          "output_type": "stream",
          "text": [
            "chamando @property nome()\n",
            "Felipe\n",
            "chamando setter nome()\n",
            "chamando @property nome()\n",
            "Felipe Santos\n"
          ]
        }
      ],
      "source": [
        "class Cliente:\n",
        "  def __init__(self, nome):\n",
        "       self.__nome = nome\n",
        "\n",
        "  @property\n",
        "  def nome(self): \n",
        "       print(\"chamando @property nome()\")\n",
        "       return self .__nome.title()\n",
        "  \n",
        "  @nome.setter\n",
        "  def nome(self, nome):\n",
        "    print(\"chamando setter nome()\")\n",
        "    self.__nome = nome\n",
        "\n",
        "#acessando\n",
        "cliente = Cliente('Felipe')\n",
        "print(cliente.nome)\n",
        "cliente.nome = 'Felipe Santos'\n",
        "print(cliente.nome)"
      ]
    },
    {
      "cell_type": "code",
      "execution_count": null,
      "metadata": {
        "id": "1NBUgCH6593o"
      },
      "outputs": [],
      "source": [
        "#encapsulando método\n",
        "class Conta:\n",
        "  def __init__(self, numero, titular, saldo, limite):\n",
        "        self.__numero = numero\n",
        "        self.__titular = titular\n",
        "        self.__saldo = saldo\n",
        "        self.__limite = limite\n",
        "    \n",
        "  def depositar(self, valor):\n",
        "    self.__saldo += valor\n",
        "\n",
        "  def sacar(self, valor):\n",
        "    self.__saldo -= valor\n",
        "\n",
        "  def extrato(self):\n",
        "    print(f\"Conta: {self.__numero}, Titula: {self.__titular} Saldo: {self.__saldo}\")  \n",
        "\n",
        "  def transferir(self, valor, destino):\n",
        "    self.sacar(valor)\n",
        "    destino.depositar(valor)\n",
        "  \n",
        "  def get_titular(self):\n",
        "    return self._titular\n",
        "\n",
        "  @property\n",
        "  def limite(self):\n",
        "    return self.__limite\n",
        "\n",
        "  @limite.setter\n",
        "  def limite(self, limite):\n",
        "    self.__limite = limite\n",
        "\n",
        "conta1 = Conta(13, \"Sicrano\", 500.0, 2000.0)\n",
        "conta2 = Conta(12, \"Fulano\", 500.0, 25000.0)\n",
        "#testar get e sett do atriduto limite\n"
      ]
    },
    {
      "cell_type": "markdown",
      "metadata": {
        "id": "0FDijHu7usle"
      },
      "source": [
        "**Coesão**"
      ]
    },
    {
      "cell_type": "code",
      "execution_count": null,
      "metadata": {
        "id": "Gd5734xCAa81"
      },
      "outputs": [],
      "source": [
        "#encapsulando método\n",
        "class Conta:\n",
        "  def __init__(self, numero, titular, saldo, limite):\n",
        "        self.__numero = numero\n",
        "        self.__titular = titular\n",
        "        self.__saldo = saldo\n",
        "        self.__limite = limite\n",
        "    \n",
        "  def depositar(self, valor):\n",
        "    self.__saldo += valor\n",
        "\n",
        "#usando metodo privado \n",
        "#nao desacoplado \n",
        "  '''def sacar(self, valor):\n",
        "    if(valor <= (self.saldo + self.limite)):\n",
        "      self.__saldo -= valor'''\n",
        "\n",
        "#metodo privado a classe\n",
        "  def __pode_sacar(self, valor):\n",
        "    return valor <= self.saldo + self.limite\n",
        "\n",
        "#usando metodo privado \n",
        "  def sacar(self, valor):\n",
        "    if(__pode_sacar(valor)):\n",
        "      self.__saldo -= valor\n",
        "\n",
        "  def extrato(self):\n",
        "    print(f\"Conta: {self.__numero}, Titula: {self.__titular} Saldo: {self.__saldo}\")  \n",
        "\n",
        "  def transferir(self, valor, destino):\n",
        "    self.sacar(valor)\n",
        "    destino.depositar(valor)\n",
        "  \n",
        "  def get_titular(self):\n",
        "    return self._titular\n",
        "\n",
        "  @property\n",
        "  def limite(self):\n",
        "    return self.__limite\n",
        "\n",
        "  @limite.setter\n",
        "  def limite(self, limite):\n",
        "    self.__limite = limite\n",
        "\n",
        "conta1 = Conta(13, \"Sicrano\", 500.0, 2000.0)\n",
        "conta2 = Conta(12, \"Fulano\", 500.0, 25000.0)\n",
        "#testar o novo metodo sacar"
      ]
    },
    {
      "cell_type": "code",
      "execution_count": null,
      "metadata": {
        "id": "Y1V6rup3Cxq0"
      },
      "outputs": [],
      "source": [
        "#metodos estáticos\n",
        "class Conta:\n",
        "  #...\n",
        "  #...\n",
        "  @staticmethod\n",
        "  def codigos_bancos():\n",
        "    return {'BB': '001', 'Caixa': '104', 'Bradesco':'237'}\n",
        "\n",
        "Conta.codigos_bancos()"
      ]
    },
    {
      "cell_type": "markdown",
      "metadata": {
        "id": "n4tvRy07DKvR"
      },
      "source": [
        "Dessa forma posso acessar um método da classe sem criar um objeto da classe Conta."
      ]
    },
    {
      "cell_type": "markdown",
      "metadata": {
        "id": "WRA2gZModRfD"
      },
      "source": [
        "# Polimorfismo\n"
      ]
    },
    {
      "cell_type": "code",
      "execution_count": null,
      "metadata": {
        "id": "IrUqyq6Dek7j"
      },
      "outputs": [],
      "source": [
        "class Animal:\n",
        "  def __init__(self):\n",
        "        pass\n",
        "\n",
        "  def locomove(self):\n",
        "    pass"
      ]
    },
    {
      "cell_type": "code",
      "execution_count": null,
      "metadata": {
        "id": "L2dCsidEeqQP"
      },
      "outputs": [],
      "source": [
        "class Peixe(Animal):\n",
        "  def locomove(self):\n",
        "    print(\"Um peixe nada.\")\n",
        "\n",
        "class Elefante(Animal):\n",
        "  def locomove(self):\n",
        "    print(\"Um elefante anda.\")\n",
        "\n",
        "class Passaro(Animal):\n",
        "  def locomove(self):\n",
        "    print(\"Um pássaro voa.\")"
      ]
    },
    {
      "cell_type": "code",
      "execution_count": null,
      "metadata": {
        "colab": {
          "base_uri": "https://localhost:8080/"
        },
        "id": "exofoEq-ezRv",
        "outputId": "ef087619-3d41-479c-f066-20b392314d50"
      },
      "outputs": [
        {
          "name": "stdout",
          "output_type": "stream",
          "text": [
            "Um peixe nada.\n",
            "Um elefante anda.\n",
            "Um pássaro voa.\n"
          ]
        }
      ],
      "source": [
        "peixe = Peixe()\n",
        "elefante = Elefante()\n",
        "passaro = Passaro()\n",
        "\n",
        "peixe.locomove()\n",
        "elefante.locomove()\n",
        "passaro.locomove()"
      ]
    },
    {
      "cell_type": "code",
      "execution_count": null,
      "metadata": {
        "id": "p6qIH4GQ_ae0"
      },
      "outputs": [],
      "source": [
        "class Conta:\n",
        "  def __init__(self, numero, titular, saldo, limite):\n",
        "    self.numero = numero \n",
        "    self.titular = titular\n",
        "    self.saldo = saldo\n",
        "    self.limite = limite\n",
        "  \n",
        "  def sacar(self):\n",
        "    pass\n",
        "\n",
        "class ContaComum(Conta):\n",
        "  def __pode_sacar(self, valor):\n",
        "    return valor <= self.saldo + self.limite\n",
        "\n",
        "  def sacar(self, valor):\n",
        "    if(self.__pode_sacar(valor)):\n",
        "      self.saldo -= valor\n"
      ]
    },
    {
      "cell_type": "markdown",
      "metadata": {
        "id": "-pO9O1Csfo7N"
      },
      "source": [
        "# Classe Abstrata\n",
        "\n",
        "É um tipo de classe especial que não pode ser instanciada, apenas herdada. Sendo assim, uma classe abstrata não pode ter um objeto criado a partir de sua instanciação. Essas classes são muito importantes quando não queremos criar um objeto a partir de uma classe “geral”, apenas de suas “subclasses”.\n",
        "\n",
        "* Uma **classe abstrata** cria uma interface comum para um conjunto de subclasses, **reduzindo código duplicado** e obrigando as subclasses a implementarem todos seus métodos abstratos. \n",
        "\n",
        "Como funcionam as Class Abstract Base: \n",
        "\n",
        "* Por padrão, o Python não fornece classes abstratas. O Python vem com um módulo que fornece a base para definir as **Class Abstract Base (ABC)** e o nome do módulo é ABC.\n",
        "\n",
        "* O ABC funciona decorando métodos da classe base como abstratos e, em seguida, registrando classes concretas como implementações da base abstrata. Um método se torna abstrato quando decorado com a palavra-chave **@abstractmethod**."
      ]
    },
    {
      "cell_type": "code",
      "execution_count": null,
      "metadata": {
        "id": "lar5dTF0fuTh"
      },
      "outputs": [],
      "source": [
        "from abc import ABC, abstractmethod\n",
        " \n",
        "class AbstractClassExample(ABC):\n",
        " \n",
        "  def __init__(self, value):\n",
        "    self.value = value\n",
        "    super().__init__()\n",
        "    \n",
        "  @abstractmethod\n",
        "  def do_something(self):\n",
        "    pass\n",
        "\n",
        "class DoAdd(AbstractClassExample):\n",
        "    pass\n",
        "\n",
        "x = DoAdd(4)"
      ]
    },
    {
      "cell_type": "code",
      "execution_count": null,
      "metadata": {
        "colab": {
          "base_uri": "https://localhost:8080/",
          "height": 183
        },
        "id": "lErGPFnCkVdl",
        "outputId": "d07b13a6-b880-4498-c8c2-7243816682ec"
      },
      "outputs": [
        {
          "ename": "TypeError",
          "evalue": "ignored",
          "output_type": "error",
          "traceback": [
            "\u001b[0;31m---------------------------------------------------------------------------\u001b[0m",
            "\u001b[0;31mTypeError\u001b[0m                                 Traceback (most recent call last)",
            "\u001b[0;32m<ipython-input-3-921445a9506b>\u001b[0m in \u001b[0;36m<module>\u001b[0;34m\u001b[0m\n\u001b[0;32m----> 1\u001b[0;31m \u001b[0mc\u001b[0m \u001b[0;34m=\u001b[0m \u001b[0mAbstractClassExample\u001b[0m\u001b[0;34m(\u001b[0m\u001b[0;34m)\u001b[0m\u001b[0;34m\u001b[0m\u001b[0;34m\u001b[0m\u001b[0m\n\u001b[0m",
            "\u001b[0;31mTypeError\u001b[0m: Can't instantiate abstract class AbstractClassExample with abstract methods do_something"
          ]
        }
      ],
      "source": [
        "c = AbstractClassExample()"
      ]
    },
    {
      "cell_type": "code",
      "execution_count": null,
      "metadata": {
        "id": "t503oeb-gf-c"
      },
      "outputs": [],
      "source": [
        "class DoAdd42(AbstractClassExample):\n",
        "  def do_something(self):\n",
        "    return self.value + 42"
      ]
    },
    {
      "cell_type": "code",
      "execution_count": null,
      "metadata": {
        "colab": {
          "background_save": true
        },
        "id": "FgtjvJqhgewN",
        "outputId": "2a14ad25-395b-4a10-9882-6185dd3605ae"
      },
      "outputs": [
        {
          "ename": "TypeError",
          "evalue": "ignored",
          "output_type": "error",
          "traceback": [
            "\u001b[0;31m---------------------------------------------------------------------------\u001b[0m",
            "\u001b[0;31mTypeError\u001b[0m                                 Traceback (most recent call last)",
            "\u001b[0;32m<ipython-input-1-254b953e9248>\u001b[0m in \u001b[0;36m<module>\u001b[0;34m\u001b[0m\n\u001b[1;32m     14\u001b[0m     \u001b[0;32mpass\u001b[0m\u001b[0;34m\u001b[0m\u001b[0;34m\u001b[0m\u001b[0m\n\u001b[1;32m     15\u001b[0m \u001b[0;34m\u001b[0m\u001b[0m\n\u001b[0;32m---> 16\u001b[0;31m \u001b[0mcachorro\u001b[0m \u001b[0;34m=\u001b[0m \u001b[0mCachorro\u001b[0m\u001b[0;34m(\u001b[0m\u001b[0;34m)\u001b[0m\u001b[0;34m\u001b[0m\u001b[0;34m\u001b[0m\u001b[0m\n\u001b[0m",
            "\u001b[0;31mTypeError\u001b[0m: Can't instantiate abstract class Cachorro with abstract methods dormir"
          ]
        }
      ],
      "source": [
        "from abc import ABC, abstractmethod\n",
        " \n",
        "class Animal(ABC):\n",
        " \n",
        "  def __init__(self, nome):\n",
        "    self.nome = nome\n",
        "    super().__init__()\n",
        "    \n",
        "  @abstractmethod\n",
        "  def dormir(self)->int:\n",
        "    pass\n",
        "\n",
        "class Cachorro(Animal):\n",
        "    pass\n",
        "\n",
        "coc"
      ]
    },
    {
      "cell_type": "code",
      "execution_count": null,
      "metadata": {
        "colab": {
          "base_uri": "https://localhost:8080/"
        },
        "id": "UPuzIfSDg7ED",
        "outputId": "c668c3c9-d20e-44dc-c53f-bb1f6f2c5278"
      },
      "outputs": [
        {
          "name": "stdout",
          "output_type": "stream",
          "text": [
            "Choque do Trovão \n",
            "Lança Chamas\n"
          ]
        }
      ],
      "source": [
        "from abc import ABC, abstractmethod\n",
        "class PokemonBase(ABC):\n",
        "  def __init__(self, nome, tipo):\n",
        "    self.nome = nome\n",
        "    self.tipo = tipo\n",
        "    self.nivel = 1 \n",
        "\n",
        "  @abstractmethod\n",
        "  def ataque_pricipal(self):\n",
        "    pass\n",
        "\n",
        "class Charmander(PokemonBase):\n",
        "    def ataque_pricipal(self):\n",
        "      return print('Lança Chamas')\n",
        "\n",
        "class Pikachu(PokemonBase):\n",
        "    def ataque_pricipal(self):\n",
        "      return print('Choque do Trovão ')\n",
        "\n",
        "pikachu = Pikachu('Pikachu', 'Eltrico')\n",
        "pikachu.ataque_pricipal()\n",
        "\n",
        "charmander = Charmander('Charmander', 'Fogo')\n",
        "charmander.ataque_pricipal()"
      ]
    },
    {
      "cell_type": "code",
      "execution_count": null,
      "metadata": {
        "colab": {
          "base_uri": "https://localhost:8080/"
        },
        "id": "kdnkX130k9HN",
        "outputId": "8720a178-a791-46f6-cb92-812326274cb0"
      },
      "outputs": [
        {
          "name": "stdout",
          "output_type": "stream",
          "text": [
            "Um peixe nada.\n",
            "Um elefante anda.\n",
            "Um pássaro voa.\n"
          ]
        }
      ],
      "source": [
        "from abc import ABC, abstractmethod\n",
        "\n",
        "class Animal(ABC):\n",
        "  def __init__(self):\n",
        "    pass\n",
        "  \n",
        "  @abstractmethod\n",
        "  def locomove(self):\n",
        "    pass\n",
        "\n",
        "class Peixe(Animal):\n",
        "  def locomove(self):\n",
        "    print(\"Um peixe nada.\")\n",
        "\n",
        "class Elefante(Animal):\n",
        "  def locomove(self):\n",
        "    print(\"Um elefante anda.\")\n",
        "\n",
        "class Passaro(Animal):\n",
        "  def locomove(self):\n",
        "    print(\"Um pássaro voa.\")\n",
        "\n",
        "peixe = Peixe()\n",
        "elefante = Elefante()\n",
        "passaro = Passaro()\n",
        "\n",
        "peixe.locomove()\n",
        "elefante.locomove()\n",
        "passaro.locomove()"
      ]
    },
    {
      "cell_type": "markdown",
      "metadata": {
        "id": "jq0iOEZQ2ETl"
      },
      "source": [
        "# Interface\n",
        "\n",
        "Em Python usarmos a classe abstrata como uma interface formal. \n",
        "\n",
        "* Uma **interface formal** funcionará como uma espécie de contrato, obrigando suas subclasses a implementar seus métodos.\n",
        "* A **interface informal** será bastante parecida com uma classe Python comum. Ela poderá definir métodos que posteriormente serão sobrescritos, mas não há obrigatoriedade para tal. "
      ]
    },
    {
      "cell_type": "markdown",
      "metadata": {
        "id": "czowOSS_YMyq"
      },
      "source": [
        "## Minicraft\n",
        "\n",
        "### Inteface usando como caso de uso o jogo Minicraft\n",
        "\n",
        "Minecraft é um jogo eletrônico sandbox de sobrevivência criado pelo desenvolvedor sueco Markus \"Notch\" Persson e posteriormente desenvolvido e publicado pela Mojang Studios, cuja propriedade intelectual foi obtida pela Microsoft em 2014. \n",
        "\n",
        "Lançado inicialmente em maio de 2009 como um projeto em desenvolvimento, seu lançamento completo ocorreu em novembro de 2011 para Microsoft Windows, macOS e Linux, sendo posteriormente relançado para uma ampla variedade de plataformas. É o jogo eletrônico mais vendido de todos os tempos, vendendo mais de 238 milhões de cópias em todas as plataformas até abril de 2021, com mais de 140 milhões de jogadores ativos mensalmente.\n",
        "\n",
        "Em Minecraft, os jogadores exploram um mundo aberto tridimensional intencionalmente em blocos, pixelizado e gerado proceduralmente, podendo descobrir e extrair matérias-primas, ferramentas artesanais, construir estruturas ou terraplenagens e, dependendo do modo de jogo, podem combater inimigos controlados por computador, bem como cooperar ou competir contra outros jogadores no mesmo mundo. \n",
        "\n",
        "Esses modos incluem um modo sobrevivência, no qual o jogador precisa adquirir recursos para construir o mundo e se manter vivo, e um modo criativo, onde os jogadores têm recursos ilimitados."
      ]
    },
    {
      "cell_type": "code",
      "execution_count": null,
      "metadata": {
        "id": "C-YaK-7P1ja3"
      },
      "outputs": [],
      "source": [
        "#ferramenta.py\n",
        "from abc import ABC, abstractmethod\n",
        "class FerramentaInterface():\n",
        "    def __init__(self, nome, composicao) -> None:\n",
        "        self.nome = nome\n",
        "        self.composicao = composicao\n",
        "    \n",
        "    @abstractmethod\n",
        "    def get_finalidade(self) -> str:\n",
        "        pass\n",
        "    \n",
        "    @abstractmethod\n",
        "    def get_poderDano(self)  -> int:\n",
        "        pass"
      ]
    },
    {
      "cell_type": "code",
      "execution_count": null,
      "metadata": {
        "id": "GQ0nXhvQX0UT",
        "outputId": "c01600cd-25ec-4d59-9906-e7a9b38ff3e0",
        "colab": {
          "base_uri": "https://localhost:8080/",
          "height": 374
        }
      },
      "outputs": [
        {
          "output_type": "error",
          "ename": "ModuleNotFoundError",
          "evalue": "ignored",
          "traceback": [
            "\u001b[0;31m---------------------------------------------------------------------------\u001b[0m",
            "\u001b[0;31mModuleNotFoundError\u001b[0m                       Traceback (most recent call last)",
            "\u001b[0;32m<ipython-input-8-4abb45b72f00>\u001b[0m in \u001b[0;36m<module>\u001b[0;34m\u001b[0m\n\u001b[1;32m      1\u001b[0m \u001b[0;31m#machado.py\u001b[0m\u001b[0;34m\u001b[0m\u001b[0;34m\u001b[0m\u001b[0;34m\u001b[0m\u001b[0m\n\u001b[0;32m----> 2\u001b[0;31m \u001b[0;32mfrom\u001b[0m \u001b[0mferramenta\u001b[0m \u001b[0;32mimport\u001b[0m \u001b[0mFerramentaInterface\u001b[0m\u001b[0;34m\u001b[0m\u001b[0;34m\u001b[0m\u001b[0m\n\u001b[0m\u001b[1;32m      3\u001b[0m \u001b[0;34m\u001b[0m\u001b[0m\n\u001b[1;32m      4\u001b[0m \u001b[0;32mclass\u001b[0m \u001b[0mMachado\u001b[0m\u001b[0;34m(\u001b[0m\u001b[0mFerramentaInterface\u001b[0m\u001b[0;34m)\u001b[0m\u001b[0;34m:\u001b[0m\u001b[0;34m\u001b[0m\u001b[0;34m\u001b[0m\u001b[0m\n\u001b[1;32m      5\u001b[0m     \u001b[0;32mdef\u001b[0m \u001b[0m__init__\u001b[0m\u001b[0;34m(\u001b[0m\u001b[0mself\u001b[0m\u001b[0;34m,\u001b[0m \u001b[0mnome\u001b[0m\u001b[0;34m,\u001b[0m \u001b[0mcomposicao\u001b[0m\u001b[0;34m,\u001b[0m \u001b[0mlargura\u001b[0m\u001b[0;34m,\u001b[0m \u001b[0mcomprimento\u001b[0m\u001b[0;34m)\u001b[0m\u001b[0;34m:\u001b[0m\u001b[0;34m\u001b[0m\u001b[0;34m\u001b[0m\u001b[0m\n",
            "\u001b[0;31mModuleNotFoundError\u001b[0m: No module named 'ferramenta'",
            "",
            "\u001b[0;31m---------------------------------------------------------------------------\u001b[0;32m\nNOTE: If your import is failing due to a missing package, you can\nmanually install dependencies using either !pip or !apt.\n\nTo view examples of installing some common dependencies, click the\n\"Open Examples\" button below.\n\u001b[0;31m---------------------------------------------------------------------------\u001b[0m\n"
          ],
          "errorDetails": {
            "actions": [
              {
                "action": "open_url",
                "actionText": "Open Examples",
                "url": "/notebooks/snippets/importing_libraries.ipynb"
              }
            ]
          }
        }
      ],
      "source": [
        "#machado.py\n",
        "from ferramenta import FerramentaInterface\n",
        "\n",
        "class Machado(FerramentaInterface):\n",
        "    def __init__(self, nome, composicao, largura, comprimento):\n",
        "        super().__init__(nome, composicao)\n",
        "        self.largura = largura\n",
        "        self.comprimento = comprimento\n",
        "    \n",
        "    def get_finalidade(self) -> str:\n",
        "        print('Corta madeira')\n",
        "    \n",
        "    def get_poderDano(self)  -> int:\n",
        "        if self.composicao == 'madeira':\n",
        "            return 10\n",
        "        elif self.composicao == 'pedra':\n",
        "            return 30\n",
        "        elif self.composicao == 'diamante':\n",
        "            return 60\n",
        "        elif self.composicao == 'ouro':\n",
        "            return 100"
      ]
    },
    {
      "cell_type": "code",
      "execution_count": null,
      "metadata": {
        "id": "KkbmTMKWX3Ye"
      },
      "outputs": [],
      "source": [
        "#bussula.py\n",
        "from ferramenta import FerramentaInterface\n",
        "\n",
        "class Bussula(FerramentaInterface):\n",
        "    def __init__(self, nome, composicao, circunferencia):\n",
        "        super().__init__(nome, composicao)\n",
        "        self.circunferencia = circunferencia\n",
        "    \n",
        "    def get_finalidade(self):\n",
        "        print('Localização')\n",
        "    \n",
        "    def get_poderDano(self):\n",
        "        if self.composicao == 'pedra':\n",
        "            return 10\n",
        "        elif self.composicao == 'diamante':\n",
        "            return 35\n",
        "        elif self.composicao == 'ouro':\n",
        "            return 50"
      ]
    },
    {
      "cell_type": "code",
      "execution_count": null,
      "metadata": {
        "id": "xA6Xd2PrX-_R"
      },
      "outputs": [],
      "source": [
        "#jogador.py\n",
        "from typing import Type\n",
        "from ferramenta import FerramentaInterface\n",
        "\n",
        "class Jogador:\n",
        "    def __init__(self, nome):\n",
        "        self.nome = nome\n",
        "    \n",
        "    def atacar_animal(self, ferramenta: Type[FerramentaInterface]):\n",
        "        ataque = ferramenta.get_poderDano()\n",
        "        print(f'{self.nome} deu {ataque} de ataque com o {ferramenta.nome}')\n",
        "    \n",
        "    def atacar_personagem(self, ferramenta: Type[FerramentaInterface]):\n",
        "        ataque = ferramenta.get_poderDano()\n",
        "        print(f'{self.nome} deu {ataque} de ataque com o {ferramenta.nome}')"
      ]
    },
    {
      "cell_type": "code",
      "execution_count": null,
      "metadata": {
        "id": "tPISrLSYYGJe"
      },
      "outputs": [],
      "source": [
        "#main.py\n",
        "from jogador import Jogador\n",
        "from machado import Machado\n",
        "from bussula import Bussula\n",
        "\n",
        "gamer = Jogador('Felipe')\n",
        "\n",
        "ferramenta_machado = Machado('Machado Glorioso', 'diamante', '0.30', '0.70')\n",
        "\n",
        "ferramenta_bussula = Bussula('Bussula Sagrada', 'diamante', '0.10')\n",
        "\n",
        "gamer.atacar_personagem(ferramenta_machado)\n",
        "\n",
        "gamer.atacar_animal(ferramenta_bussula)\n"
      ]
    }
  ],
  "metadata": {
    "colab": {
      "provenance": [],
      "authorship_tag": "ABX9TyO/zrMmIEz57uSrDZ9P0I/H",
      "include_colab_link": true
    },
    "kernelspec": {
      "display_name": "Python 3",
      "name": "python3"
    },
    "language_info": {
      "name": "python"
    }
  },
  "nbformat": 4,
  "nbformat_minor": 0
}