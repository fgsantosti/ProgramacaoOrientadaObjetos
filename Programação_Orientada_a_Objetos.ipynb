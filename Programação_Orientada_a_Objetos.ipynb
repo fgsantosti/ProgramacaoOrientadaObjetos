{
  "nbformat": 4,
  "nbformat_minor": 0,
  "metadata": {
    "colab": {
      "provenance": [],
      "authorship_tag": "ABX9TyP4Syh8wJxVpc3EOIocgFY8",
      "include_colab_link": true
    },
    "kernelspec": {
      "name": "python3",
      "display_name": "Python 3"
    },
    "language_info": {
      "name": "python"
    }
  },
  "cells": [
    {
      "cell_type": "markdown",
      "metadata": {
        "id": "view-in-github",
        "colab_type": "text"
      },
      "source": [
        "<a href=\"https://colab.research.google.com/github/fgsantosti/ProgramacaoOrientadaObjetos/blob/main/Programa%C3%A7%C3%A3o_Orientada_a_Objetos.ipynb\" target=\"_parent\"><img src=\"https://colab.research.google.com/assets/colab-badge.svg\" alt=\"Open In Colab\"/></a>"
      ]
    },
    {
      "cell_type": "markdown",
      "source": [
        "# Programação Estrutural"
      ],
      "metadata": {
        "id": "M_H_z6UEsvYq"
      }
    },
    {
      "cell_type": "code",
      "source": [
        "def cria_conta(numero, titular, saldo, limite):\n",
        "    conta = {\"numero\": numero, \"titular\": titular, \"saldo\": saldo, \"limite\": limite}\n",
        "    return conta\n",
        "\n",
        "def deposita(conta, valor):\n",
        "    conta[\"saldo\"] += valor\n",
        "\n",
        "def saca(conta, valor):\n",
        "    conta[\"saldo\"] -= valor\n",
        "\n",
        "def extrato(conta):\n",
        "    print(\"Saldo {}\".format(conta[\"saldo\"]))"
      ],
      "metadata": {
        "id": "Emk978-Lqa8s"
      },
      "execution_count": null,
      "outputs": []
    },
    {
      "cell_type": "code",
      "source": [
        "conta = cria_conta(1111, 'felipe', 1000, 10000)\n",
        "\n",
        "print(conta['saldo'])\n",
        "\n",
        "deposita(conta, 500)\n",
        "\n",
        "extrato(conta)"
      ],
      "metadata": {
        "colab": {
          "base_uri": "https://localhost:8080/"
        },
        "id": "CKXAKpi-rkn6",
        "outputId": "17f1c8a5-8b5b-49b8-e509-d79cd129507b"
      },
      "execution_count": null,
      "outputs": [
        {
          "output_type": "stream",
          "name": "stdout",
          "text": [
            "1000\n",
            "Saldo 1500\n"
          ]
        }
      ]
    },
    {
      "cell_type": "code",
      "source": [
        "#Se tivermos outros tipos de conta deveriamos repetir parte dessas funções feitas acima.\n",
        "\n",
        "#Outro problema é que nada evita de acessar as variaveias da conta de forma direta como:\n",
        "conta['saldo'] = 0\n",
        "\n",
        "print(conta['saldo'])\n",
        "\n",
        "extrato(conta)"
      ],
      "metadata": {
        "colab": {
          "base_uri": "https://localhost:8080/"
        },
        "id": "y7S3TUgMu61P",
        "outputId": "7dcc350e-1c13-4a49-8e4f-ec900baf4c37"
      },
      "execution_count": null,
      "outputs": [
        {
          "output_type": "stream",
          "name": "stdout",
          "text": [
            "0\n",
            "Saldo 0\n"
          ]
        }
      ]
    },
    {
      "cell_type": "markdown",
      "source": [
        "\n",
        "#Classe e Objeto\n"
      ],
      "metadata": {
        "id": "3AZc5BeQ1a4S"
      }
    },
    {
      "cell_type": "code",
      "source": [
        "class Conta:\n",
        "  pass\n",
        "\n",
        "Conta() #é retornado um endereço em memória"
      ],
      "metadata": {
        "colab": {
          "base_uri": "https://localhost:8080/"
        },
        "id": "kGZlmtSjv_T7",
        "outputId": "0e735067-9637-4de0-9120-de03314ffd6f"
      },
      "execution_count": null,
      "outputs": [
        {
          "output_type": "stream",
          "name": "stdout",
          "text": [
            "<__main__.Conta object at 0x7f0ac9b53810>\n"
          ]
        }
      ]
    },
    {
      "cell_type": "code",
      "source": [
        "conta = Conta() #criamos uma referencia para esse endereço\n",
        "print(conta)"
      ],
      "metadata": {
        "colab": {
          "base_uri": "https://localhost:8080/"
        },
        "id": "ljtXI2f_wekk",
        "outputId": "59b3d2f8-4b00-4332-a5f3-2fa5a014fad3"
      },
      "execution_count": null,
      "outputs": [
        {
          "output_type": "stream",
          "name": "stdout",
          "text": [
            "<__main__.Conta object at 0x7f0ac9b27210>\n"
          ]
        }
      ]
    },
    {
      "cell_type": "code",
      "source": [
        "class Conta:\n",
        "  def __init__(self):\n",
        "    print('Construindo uma conta')\n",
        "\n",
        "Conta() #é retornado um endereço em memória"
      ],
      "metadata": {
        "colab": {
          "base_uri": "https://localhost:8080/"
        },
        "id": "d63VDquk0R0K",
        "outputId": "d067d08b-3791-404e-fe90-c74ef28cfc82"
      },
      "execution_count": null,
      "outputs": [
        {
          "output_type": "stream",
          "name": "stdout",
          "text": [
            "Construindo uma conta\n"
          ]
        },
        {
          "output_type": "execute_result",
          "data": {
            "text/plain": [
              "<__main__.Conta at 0x7f0ac9b14dd0>"
            ]
          },
          "metadata": {},
          "execution_count": 13
        }
      ]
    },
    {
      "cell_type": "code",
      "source": [
        "class Conta:\n",
        "  def __init__(self):\n",
        "    print(f'Construindo uma conta {self}') #é a referencia ao endereço em memória\n",
        "\n",
        "Conta() "
      ],
      "metadata": {
        "colab": {
          "base_uri": "https://localhost:8080/"
        },
        "id": "_FQLvmX90gxH",
        "outputId": "39194f91-6ea3-415b-b32f-1a78c17ff0fa"
      },
      "execution_count": null,
      "outputs": [
        {
          "output_type": "stream",
          "name": "stdout",
          "text": [
            "Construindo uma conta <__main__.Conta object at 0x7f0ac9b473d0>\n"
          ]
        },
        {
          "output_type": "execute_result",
          "data": {
            "text/plain": [
              "<__main__.Conta at 0x7f0ac9b473d0>"
            ]
          },
          "metadata": {},
          "execution_count": 15
        }
      ]
    },
    {
      "cell_type": "code",
      "source": [
        "class Conta:\n",
        "\n",
        "    def __init__(self, numero, titular, saldo):\n",
        "        self.numero = numero\n",
        "        self.titular = titular\n",
        "        self.saldo = saldo\n",
        "        self.limite = 2000"
      ],
      "metadata": {
        "id": "_587zBf318s1"
      },
      "execution_count": null,
      "outputs": []
    },
    {
      "cell_type": "code",
      "source": [
        "conta = Conta(1, \"Fulano\", 10000.0)\n",
        "print(conta.limite)\n",
        "\n",
        "conta2 = Conta(3, \"Ciro\", 10000.0)\n",
        "print(conta2.limite)"
      ],
      "metadata": {
        "colab": {
          "base_uri": "https://localhost:8080/"
        },
        "id": "QIdeVRf2uCkk",
        "outputId": "d32c0fde-bc91-4052-d21d-794952a205d1"
      },
      "execution_count": null,
      "outputs": [
        {
          "output_type": "stream",
          "name": "stdout",
          "text": [
            "2000\n",
            "2000\n"
          ]
        }
      ]
    },
    {
      "cell_type": "code",
      "source": [
        "#testes\n",
        "conta1 = Conta(1, \"Fulano\", 10000.0, 1000.0)\n",
        "conta2 = Conta(2, \"Beltrano\", 50000.0, 1000.0)\n",
        "conta3 = Conta(3, \"Sicrano\", 500.0, 2000.0)"
      ],
      "metadata": {
        "id": "mGA1yNfG1-lG"
      },
      "execution_count": null,
      "outputs": []
    },
    {
      "cell_type": "code",
      "source": [
        "class Conta:\n",
        "    '''Neste caso podemos supor que apenas as contas \n",
        "    com limites especiais precisariam passar argumento'''\n",
        "    def __init__(self, numero, titular, saldo, limite = 2000.0):\n",
        "        self.numero = numero\n",
        "        self.titular = titular\n",
        "        self.saldo = saldo\n",
        "        self.limite = limite"
      ],
      "metadata": {
        "id": "e6lvUxpJ2sSW"
      },
      "execution_count": null,
      "outputs": []
    },
    {
      "cell_type": "code",
      "source": [
        "conta1 = Conta(1, \"Fulano\", 10000.0)\n",
        "conta2 = Conta(2, \"Beltrano\", 50000.0)\n",
        "conta3 = Conta(3, \"Sicrano\", 500.0, 5000.0)"
      ],
      "metadata": {
        "id": "O9Tob25L2uCP"
      },
      "execution_count": null,
      "outputs": []
    },
    {
      "cell_type": "code",
      "source": [
        "#forma de acesso as variáveis \n",
        "print(conta1.saldo) #traz para mim\n",
        "print(conta2.saldo) #traz para mim\n",
        "print(conta3.saldo) #traz para mim"
      ],
      "metadata": {
        "id": "vc7Z-8dl33M1"
      },
      "execution_count": null,
      "outputs": []
    },
    {
      "cell_type": "code",
      "source": [
        "'''\n",
        "def cria_conta(numero, titular, saldo, limite):\n",
        "    conta = {\"numero\": numero, \"titular\": titular, \"saldo\": saldo, \"limite\": limite}\n",
        "    return conta\n",
        "def deposita(conta, valor):\n",
        "    conta[\"saldo\"] += valor\n",
        "def saca(conta, valor):\n",
        "    conta[\"saldo\"] -= valor\n",
        "def extrato(conta):\n",
        "    print(\"Saldo {}\".format(conta[\"saldo\"]))\n",
        "'''\n",
        "\n",
        "class Conta:\n",
        "    def __init__(self, numero, titular, saldo, limite):\n",
        "        self.numero = numero\n",
        "        self.titular = titular\n",
        "        self.saldo = saldo\n",
        "        self.limite = limite\n",
        "    \n",
        "    def deposita(self, valor):\n",
        "      self.saldo += valor\n",
        "\n",
        "    def saca(self, valor):\n",
        "      self.saldo -= valor\n",
        "\n",
        "    def extrato(self):\n",
        "      print(f\"Saldo: {self.saldo}\")  \n",
        "\n",
        "conta1 = Conta(13, \"Sicrano\", 500.0, 2000.0)\n",
        "conta2 = Conta(22, \"Fulano\", 5000.0, 2000.0)"
      ],
      "metadata": {
        "id": "eHmXw4YO4psA"
      },
      "execution_count": null,
      "outputs": []
    },
    {
      "cell_type": "code",
      "source": [
        "#extrado()\n",
        "conta1.extrato() #a referencia é orientada a objeto\n",
        "\n",
        "conta2.extrato() #a referencia é orientada a objeto"
      ],
      "metadata": {
        "colab": {
          "base_uri": "https://localhost:8080/"
        },
        "id": "clIV3ETn5tzC",
        "outputId": "a32dff19-56d2-43d1-bf78-bc9ce204d9b4"
      },
      "execution_count": null,
      "outputs": [
        {
          "output_type": "stream",
          "name": "stdout",
          "text": [
            "Saldo: 500.0\n",
            "Saldo: 5000.0\n"
          ]
        }
      ]
    },
    {
      "cell_type": "code",
      "source": [
        "refconta = conta1 #referencia ao objeto conta1\n",
        "refconta = None #apago a referencia ao objeto conta1"
      ],
      "metadata": {
        "id": "7Qu_QzzdHWlW"
      },
      "execution_count": null,
      "outputs": []
    },
    {
      "cell_type": "markdown",
      "source": [
        "Faça uma classe chamada Data, que receba como apresentado abaixo e tenha a função formatada e apresente a data dessa forma 21/11/2007\n",
        "\n",
        "d = Data(21,11,2007)\n",
        "\n",
        "d.formatada()"
      ],
      "metadata": {
        "id": "V8W_uA8XLfeW"
      }
    },
    {
      "cell_type": "code",
      "source": [
        "class Data:\n",
        "  def __init__(self, dia, mes, ano):\n",
        "    self.dia = dia\n",
        "    self.mes = mes\n",
        "    self.ano = ano\n",
        "  def formatada(self):\n",
        "    print(f\"{self.dia}/{self.mes}/{self.ano}\")\n",
        "\n",
        "d = Data(19,8,2022)\n",
        "d.formatada()"
      ],
      "metadata": {
        "colab": {
          "base_uri": "https://localhost:8080/"
        },
        "id": "ee8QCZ3xIwJa",
        "outputId": "60322374-7125-42f7-837a-977681e296ae"
      },
      "execution_count": null,
      "outputs": [
        {
          "output_type": "stream",
          "name": "stdout",
          "text": [
            "19/8/2022\n"
          ]
        }
      ]
    },
    {
      "cell_type": "markdown",
      "source": [
        "## Encapsulando\n",
        "\n"
      ],
      "metadata": {
        "id": "O-VHB8_oLuaD"
      }
    },
    {
      "cell_type": "code",
      "source": [
        "#encapsulando variável\n",
        "class Conta:\n",
        "    def __init__(self, numero, titular, saldo, limite):\n",
        "        self.__numero = numero\n",
        "        self.__titular = titular\n",
        "        self.__saldo = saldo\n",
        "        self.__limite = limite\n",
        "    \n",
        "    def deposita(self, valor):\n",
        "      self.__saldo += valor\n",
        "\n",
        "    def saca(self, valor):\n",
        "      self.__saldo -= valor\n",
        "\n",
        "    def extrato(self):\n",
        "      print(f\"Conta: {self.__numero}, Titula: {self.__titular} Saldo: {self.__saldo}\")  \n",
        "\n",
        "conta1 = Conta(13, \"Sicrano\", 500.0, 2000.0)\n",
        "\n",
        "#insegurança\n",
        "print(conta1._Conta__saldo) #mesmo deixando os atributos privados ainda é possivel acessar"
      ],
      "metadata": {
        "colab": {
          "base_uri": "https://localhost:8080/"
        },
        "id": "WcVxBoFdLcZs",
        "outputId": "4dd52e22-d060-4778-e930-6c544bf4fbff"
      },
      "execution_count": null,
      "outputs": [
        {
          "output_type": "stream",
          "name": "stdout",
          "text": [
            "500.0\n"
          ]
        }
      ]
    },
    {
      "cell_type": "code",
      "source": [
        "#encapsulando método\n",
        "class Conta:\n",
        "  def __init__(self, numero, titular, saldo, limite):\n",
        "        self.__numero = numero\n",
        "        self.__titular = titular\n",
        "        self.__saldo = saldo\n",
        "        self.__limite = limite\n",
        "    \n",
        "  def depositar(self, valor):\n",
        "    self.__saldo += valor\n",
        "\n",
        "  def sacar(self, valor):\n",
        "    self.__saldo -= valor\n",
        "\n",
        "  def extrato(self):\n",
        "    print(f\"Conta: {self.__numero}, Titula: {self.__titular} Saldo: {self.__saldo}\")  \n",
        "\n",
        "  #método não encapsulado\n",
        "  def transferir(self, origem, valor, destino):\n",
        "    origem.sacar(valor)\n",
        "    destino.depositar(valor)\n",
        "\n",
        "  def transferir(self, valor, destino):\n",
        "    self.sacar(valor)\n",
        "    destino.depositar(valor)\n",
        "\n",
        "  #metodos get e set \n",
        "  def get_limite(self):\n",
        "        return self.__limite\n",
        "\n",
        "  def set_limite(self, limite):\n",
        "        self.__limite = limite  \n",
        "\n",
        "\n",
        "conta1 = Conta(13, \"Sicrano\", 500.0, 2000.0)\n",
        "conta2 = Conta(12, \"Fulano\", 500.0, 25000.0)\n",
        "#testar\n"
      ],
      "metadata": {
        "id": "rhBSEz5ksleS"
      },
      "execution_count": null,
      "outputs": []
    },
    {
      "cell_type": "code",
      "source": [
        "class Cliente:\n",
        "\n",
        "  def __init__(self, nome):\n",
        "       self.__nome = nome\n",
        "\n",
        "  @property\n",
        "  def nome(self): \n",
        "       print(\"chamando @property nome()\")\n",
        "       return self .__nome.title()\n",
        "  \n",
        "  @nome.setter\n",
        "  def nome(self, nome):\n",
        "    print(\"chamando setter nome()\")\n",
        "    self.__nome = nome\n",
        "\n",
        "#acessando\n",
        "cliente = Cliente('Felipe')\n",
        "print(cliente.nome)\n",
        "cliente.nome = 'Felipe Santos'\n",
        "print(cliente.nome)"
      ],
      "metadata": {
        "colab": {
          "base_uri": "https://localhost:8080/"
        },
        "id": "6eTbJpO96Xrd",
        "outputId": "6c9df5c8-088d-4c10-c012-cbe61cd4e1a6"
      },
      "execution_count": null,
      "outputs": [
        {
          "output_type": "stream",
          "name": "stdout",
          "text": [
            "chamando @property nome()\n",
            "Felipe\n",
            "chamando setter nome()\n",
            "chamando @property nome()\n",
            "Felipe Santos\n"
          ]
        }
      ]
    },
    {
      "cell_type": "code",
      "source": [
        "#encapsulando método\n",
        "class Conta:\n",
        "  def __init__(self, numero, titular, saldo, limite):\n",
        "        self.__numero = numero\n",
        "        self.__titular = titular\n",
        "        self.__saldo = saldo\n",
        "        self.__limite = limite\n",
        "    \n",
        "  def depositar(self, valor):\n",
        "    self.__saldo += valor\n",
        "\n",
        "  def sacar(self, valor):\n",
        "    self.__saldo -= valor\n",
        "\n",
        "  def extrato(self):\n",
        "    print(f\"Conta: {self.__numero}, Titula: {self.__titular} Saldo: {self.__saldo}\")  \n",
        "\n",
        "  def transferir(self, valor, destino):\n",
        "    self.sacar(valor)\n",
        "    destino.depositar(valor)\n",
        "  \n",
        "  def get_titular(self):\n",
        "    return self._titular\n",
        "\n",
        "  @property\n",
        "  def limite(self):\n",
        "    return self.__limite\n",
        "\n",
        "  @limite.setter\n",
        "  def limite(self, limite):\n",
        "    self.__limite = limite\n",
        "\n",
        "conta1 = Conta(13, \"Sicrano\", 500.0, 2000.0)\n",
        "conta2 = Conta(12, \"Fulano\", 500.0, 25000.0)\n",
        "#testar get e sett do atriduto limite\n"
      ],
      "metadata": {
        "id": "1NBUgCH6593o"
      },
      "execution_count": null,
      "outputs": []
    },
    {
      "cell_type": "markdown",
      "source": [
        "**Coesão**"
      ],
      "metadata": {
        "id": "0FDijHu7usle"
      }
    },
    {
      "cell_type": "code",
      "source": [],
      "metadata": {
        "id": "HkvZajioAbOl"
      },
      "execution_count": null,
      "outputs": []
    },
    {
      "cell_type": "code",
      "source": [
        "#encapsulando método\n",
        "class Conta:\n",
        "  def __init__(self, numero, titular, saldo, limite):\n",
        "        self.__numero = numero\n",
        "        self.__titular = titular\n",
        "        self.__saldo = saldo\n",
        "        self.__limite = limite\n",
        "    \n",
        "  def depositar(self, valor):\n",
        "    self.__saldo += valor\n",
        "\n",
        "#usando metodo privado \n",
        "  def sacar(self, valor):\n",
        "    if(valor <= (self.saldo + self.limite)):\n",
        "      self.__saldo -= valor\n",
        "\n",
        "#metodo privado a classe\n",
        "def __pode_sacar(self, valor):\n",
        "  return valor <= self.saldo + self.limite\n",
        "\n",
        "#usando metodo privado \n",
        "  def sacar(self, valor):\n",
        "    if(__pode_sacar(valor)):\n",
        "      self.__saldo -= valor\n",
        "\n",
        "  def extrato(self):\n",
        "    print(f\"Conta: {self.__numero}, Titula: {self.__titular} Saldo: {self.__saldo}\")  \n",
        "\n",
        "  def transferir(self, valor, destino):\n",
        "    self.sacar(valor)\n",
        "    destino.depositar(valor)\n",
        "  \n",
        "  def get_titular(self):\n",
        "    return self._titular\n",
        "\n",
        "  @property\n",
        "  def limite(self):\n",
        "    return self.__limite\n",
        "\n",
        "  @limite.setter\n",
        "  def limite(self, limite):\n",
        "    self.__limite = limite\n",
        "\n",
        "conta1 = Conta(13, \"Sicrano\", 500.0, 2000.0)\n",
        "conta2 = Conta(12, \"Fulano\", 500.0, 25000.0)\n",
        "#testar o novo metodo sacar"
      ],
      "metadata": {
        "id": "Gd5734xCAa81"
      },
      "execution_count": null,
      "outputs": []
    },
    {
      "cell_type": "code",
      "source": [
        "#metodos estáticos\n",
        "class Conta:\n",
        "  #...\n",
        "  #...\n",
        "  @staticmethod\n",
        "  def codigos_bancos():\n",
        "    return {'BB': '001', 'Caixa': '104', 'Bradesco':'237'}\n",
        "\n",
        "Conta.codigos_bancos()"
      ],
      "metadata": {
        "id": "Y1V6rup3Cxq0"
      },
      "execution_count": null,
      "outputs": []
    },
    {
      "cell_type": "markdown",
      "source": [
        "Dessa forma posso acessar um método da classe sem criar um objeto da classe Conta."
      ],
      "metadata": {
        "id": "n4tvRy07DKvR"
      }
    },
    {
      "cell_type": "code",
      "source": [],
      "metadata": {
        "id": "nfgQ_lTPDKaI"
      },
      "execution_count": null,
      "outputs": []
    },
    {
      "cell_type": "code",
      "execution_count": null,
      "metadata": {
        "id": "1IYaT7qUnqsB"
      },
      "outputs": [],
      "source": [
        "#classe e objeto pessoa\n",
        "class Person:\n",
        "  def __init__(self, name, age, phone):\n",
        "    self.name = name\n",
        "    self.age = age\n",
        "    self.phone = phone\n",
        "\n",
        "  def myfunc(self):\n",
        "    print(\"Hello my name is \" + self.name)\n",
        "\n",
        "  def falar(self, text):\n",
        "    print(self.name, 'diz:', text)\n",
        "\n",
        "\n",
        "p1 = Person(\"Debora\", 18, \"89 99999 5555\")\n",
        "print(p1.name)\n",
        "p2 = Person(\"Felipe\", 18, \"89 99999 5555\")\n",
        "print(p2.name)\n",
        "#p1.myfunc()"
      ]
    },
    {
      "cell_type": "markdown",
      "source": [
        "## Classe e Objeto: Relacionamento"
      ],
      "metadata": {
        "id": "5gmsZX511gKV"
      }
    },
    {
      "cell_type": "code",
      "source": [
        "#employment.py\n",
        "class Employment:\n",
        "    id: int\n",
        "    charge:str\n",
        "    start_time: str \n",
        "    end_time: str\n",
        "    salario: float\n",
        "\n",
        "    def __init__(self, id:int, charge:str, start_time: str, end_time: str, salario: float):\n",
        "        self.id = id\n",
        "        self.charge = charge\n",
        "        self.start_time = start_time\n",
        "        self.end_time = end_time\n",
        "        self.salario = salario"
      ],
      "metadata": {
        "id": "H8CH0e1i1oeE"
      },
      "execution_count": null,
      "outputs": []
    },
    {
      "cell_type": "code",
      "source": [
        "#person.py\n",
        "from employment import Employment\n",
        "\n",
        "class Person:\n",
        "    id: int\n",
        "    name: str\n",
        "    email: str\n",
        "    employment: Employment\n",
        "\n",
        "    def __init__(self, id: int, name: str, email:str, employment:Employment):\n",
        "        self.id = id\n",
        "        self.name = name\n",
        "        self.email = email\n",
        "        self.employment = employment\n",
        "    \n",
        "    def inserir_emprego(self):\n",
        "        pass\n",
        "        #self.employment.append(Employment())\n",
        "    def imprimir_pessoa(self):\n",
        "        print(self.name)"
      ],
      "metadata": {
        "id": "Icc0sam-1UZX"
      },
      "execution_count": null,
      "outputs": []
    },
    {
      "cell_type": "code",
      "source": [
        "#main.py\n",
        "from person import Person\n",
        "from employment import Employment\n",
        "\n",
        "def main():\n",
        "    nome =  input('Nome da Pessoa: ')\n",
        "    email = input('Email:')\n",
        "    emprego1 = Employment(1, 'Professor', '18h', '22h', '5000')\n",
        "    e1 = Employment(2, 'Dev Python', '8h', '22h', '12000')\n",
        "\n",
        "    p = Person(1,nome, email,emprego1)\n",
        "    p1 = Person(2, 'Sabrina', 'sabrina@gmail.com', e1)\n",
        "\n",
        "    print(p.name, p.email, p.employment.charge)\n",
        "\n",
        "    print(p1.name, p1.employment.charge)\n",
        "\n",
        "    p2 = Person(3, 'Jefferson', 'jeff@gmail.com', e1)\n",
        "\n",
        "    print(p2.name, p2.employment.charge)\n",
        "\n",
        "    p.imprimir_pessoa()\n",
        "\n",
        "main()"
      ],
      "metadata": {
        "id": "FYz-QNKO1xOB"
      },
      "execution_count": null,
      "outputs": []
    },
    {
      "cell_type": "code",
      "source": [
        "class Curso:\n",
        "  def __init__(self, nome, descricao):\n",
        "    self.nome = nome\n",
        "    self.descricao = descricao\n",
        "\n",
        "class Aluno:\n",
        "  curso: Curso\n",
        "  def __init__(self,nome, idade, curso: Curso):\n",
        "    self.nome = nome\n",
        "    self.idade = idade\n",
        "    self.curso = curso\n",
        "\n",
        "curso1 = Curso('ADS', 'O melhor')\n",
        "curso2 = Curso('Gestão Ambiental', 'plantinhas') \n",
        "aluno1 = Aluno('Wellinton', '19', curso1 )\n",
        "\n",
        "print(aluno1.curso.nome)\n",
        "\n"
      ],
      "metadata": {
        "colab": {
          "base_uri": "https://localhost:8080/"
        },
        "id": "ylyuNFM-6PMT",
        "outputId": "53c4f5dc-0f64-407a-adc9-b10dfa9a9b64"
      },
      "execution_count": null,
      "outputs": [
        {
          "output_type": "stream",
          "name": "stdout",
          "text": [
            "ADS\n"
          ]
        }
      ]
    },
    {
      "cell_type": "markdown",
      "source": [
        "## Classe e Objeto: Agregação"
      ],
      "metadata": {
        "id": "tdINnJ-12E8i"
      }
    },
    {
      "cell_type": "code",
      "source": [
        "#client.py\n",
        "class Client:\n",
        "  def __init__(self, id, name, age, phone):\n",
        "    self.id = id\n",
        "    self.name = name\n",
        "    self.age = age\n",
        "    self.phone = phone\n"
      ],
      "metadata": {
        "id": "qBHmaevV2mUW"
      },
      "execution_count": null,
      "outputs": []
    },
    {
      "cell_type": "code",
      "source": [
        "#product.py\n",
        "class Product:\n",
        "    def __init__(self, name, value):\n",
        "        self.name = name\n",
        "        self.value = value\n",
        "    \n",
        "    def inserir_produt():\n",
        "        pass\n",
        "    \n",
        "    def alterar_produt():\n",
        "        pass\n",
        "\n",
        "    def listar_produts():\n",
        "        pass\n",
        "\n",
        "    def deletar_product():\n",
        "        pass\n",
        "    "
      ],
      "metadata": {
        "id": "nGhgoD1O2EJs"
      },
      "execution_count": null,
      "outputs": []
    },
    {
      "cell_type": "code",
      "source": [
        "#shopping_cart.py\n",
        "from client import Client \n",
        "\n",
        "class ShoppingCart:\n",
        "    client: Client \n",
        "    def __init__(self, client:Client):\n",
        "        self.products = []\n",
        "        self.client = client \n",
        "\n",
        "    \n",
        "    def insert_products(self, product):\n",
        "        self.products.append(product)\n",
        "\n",
        "    def list_products(self):\n",
        "        for product in self.products:\n",
        "            print(product.name, product.value)\n",
        "    \n",
        "    def sum_total(self):\n",
        "        total = 0\n",
        "        for product in self.products:\n",
        "            total += product.value\n",
        "        return total\n",
        "    "
      ],
      "metadata": {
        "id": "cSHlm_Sw2Uux"
      },
      "execution_count": null,
      "outputs": []
    },
    {
      "cell_type": "code",
      "source": [
        "#main.py\n",
        "from product import Product\n",
        "from shopping_cart import ShoppingCart\n",
        "from client import Client\n",
        "\n",
        "client1 = Client(1, 'Felipe', 30, 899999999)\n",
        "cart1 = ShoppingCart(client1)\n",
        "\n",
        "p1 = Product('MacBook', 12000)\n",
        "p2 = Product('Iphone 12', 18000)\n",
        "p3 = Product('Samsung', 6000)\n",
        "p4 = Product('MacBook Pro', 24000)\n",
        "p5 = Product('Xaomi', 3000)\n",
        "\n",
        "cart1.insert_products(p1)\n",
        "cart1.insert_products(p2)\n",
        "cart1.insert_products(p3)\n",
        "cart1.insert_products(p4)\n",
        "cart1.insert_products(p5)\n",
        "\n",
        "cart1.list_products()\n",
        "\n",
        "print(cart1.sum_total())\n"
      ],
      "metadata": {
        "id": "dyqCCynL2h84"
      },
      "execution_count": null,
      "outputs": []
    },
    {
      "cell_type": "markdown",
      "source": [
        "## Classe e Objeto: Composição"
      ],
      "metadata": {
        "id": "IC2kI8fE66ns"
      }
    },
    {
      "cell_type": "code",
      "source": [
        "#addrss.py\n",
        "class Address:\n",
        "    def __init__(self, country, state, city):\n",
        "        self.country = country\n",
        "        self.state = state\n",
        "        self.city = city\n",
        "    \n",
        "    def __del__(self):\n",
        "        print(f'{self.country, self.state, self.city} Foi deletado')"
      ],
      "metadata": {
        "id": "C80pV5UK2vZl"
      },
      "execution_count": null,
      "outputs": []
    },
    {
      "cell_type": "code",
      "source": [
        "#client.py\n",
        "from address import Address\n",
        "\n",
        "class Client:\n",
        "    def __init__(self, name, age):\n",
        "        self.name = name\n",
        "        self.age = age\n",
        "        self.addresses = []\n",
        "    \n",
        "    def insert_address(self, country, state, city):\n",
        "        self.addresses.append(Address(country, state, city))\n",
        "    \n",
        "    def list_address(self):\n",
        "        for address in self.addresses:\n",
        "            print(address.country, address.state, address.city)\n",
        "    \n",
        "    def __del__(self):\n",
        "        print(f'{self.name, self.age} Foi deletado')"
      ],
      "metadata": {
        "id": "m9z1KoBb7HPs"
      },
      "execution_count": null,
      "outputs": []
    },
    {
      "cell_type": "code",
      "source": [
        "#main.py\n",
        "from client import Client\n",
        "from address import Address\n",
        "\n",
        "client1 = Client('Fellps', 30)\n",
        "client1.insert_address('Brasil', 'Piauí', 'Corrente')\n",
        "client1.insert_address('Brasil', 'Piauí', 'Floriano')\n",
        "print(client1.name, client1.age)\n",
        "client1.list_address()\n",
        "del client1 \n",
        "\n",
        "print()\n",
        "client2 = Client('Fulano', 30)\n",
        "client2.insert_address('Brasil', 'Piauí', 'Corrente')\n",
        "client2.insert_address('Brasil', 'Piauí', 'Floriano')\n",
        "print(client2.name, client2.age)\n",
        "client2.list_address()\n",
        "del client2\n",
        "print()\n",
        "\n",
        "\n",
        "print('_____________________________________________________')\n"
      ],
      "metadata": {
        "id": "bjEkZtPU7Lo0"
      },
      "execution_count": null,
      "outputs": []
    },
    {
      "cell_type": "markdown",
      "source": [
        "# Herança"
      ],
      "metadata": {
        "id": "VQseGEEg7Ss4"
      }
    },
    {
      "cell_type": "code",
      "source": [
        "#person.py\n",
        "class Person:\n",
        "  def __init__(self, fname, lname):\n",
        "    self.firstname = fname\n",
        "    self.lastname = lname\n",
        "\n",
        "  def printname(self):\n",
        "    print(self.firstname, self.lastname)"
      ],
      "metadata": {
        "id": "4TJcTr0m8At1"
      },
      "execution_count": null,
      "outputs": []
    },
    {
      "cell_type": "code",
      "source": [
        "#student.py\n",
        "from person import Person\n",
        "\n",
        "class Student(Person):\n",
        "    def __init__(self, fname, lname, ncarteirinha,cpf, senha='*'):\n",
        "        super().__init__(fname,lname)\n",
        "        self.ncarteirinha = ncarteirinha\n",
        "        self.senha = cpf \n",
        "        self.cpf = cpf\n",
        "\n",
        "\n",
        "    def alterar_senha(self, nova_senha):\n",
        "        self.senha = nova_senha"
      ],
      "metadata": {
        "id": "IQYbmmlL8Bn0"
      },
      "execution_count": null,
      "outputs": []
    },
    {
      "cell_type": "code",
      "source": [
        "#main_person_student.py\n",
        "from student import Student\n",
        "\n",
        "def main_person_student():\n",
        "    x = Student(\"Mike\", \"Lobato\", '2022IFPIADS', '009.121.222-67')\n",
        "    x.printname()"
      ],
      "metadata": {
        "id": "VJOEB0Vd8QEQ"
      },
      "execution_count": null,
      "outputs": []
    },
    {
      "cell_type": "code",
      "source": [
        "#person.py\n",
        "class Person:\n",
        "  def __init__(self, fname, lname):\n",
        "    self.firstname = fname\n",
        "    self.lastname = lname\n"
      ],
      "metadata": {
        "id": "z5wNq-GR8hfx"
      },
      "execution_count": null,
      "outputs": []
    },
    {
      "cell_type": "code",
      "source": [
        "#hospede.py\n",
        "from pessoa import Person\n",
        "class Hospede(Person):\n",
        "    def __init__(self, fname, lname, profissao):\n",
        "        super().__init__(fname, lname)\n",
        "        self.profissao = profissao\n",
        "\n",
        "    def inserir_hospede(self):\n",
        "        pass\n",
        "\n",
        "    def listar_hospedes(self):\n",
        "        pass\n",
        "\n",
        "    def alterar_hospede(self, id ):\n",
        "        pass\n",
        "    \n",
        "    def deletar_hospede(self, id):\n",
        "        pass\n"
      ],
      "metadata": {
        "id": "HI5FZQrA8kAS"
      },
      "execution_count": null,
      "outputs": []
    },
    {
      "cell_type": "code",
      "source": [],
      "metadata": {
        "id": "hAYoucXV8umP"
      },
      "execution_count": null,
      "outputs": []
    }
  ]
}